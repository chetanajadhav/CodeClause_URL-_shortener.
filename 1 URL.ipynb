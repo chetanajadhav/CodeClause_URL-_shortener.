{
 "cells": [
  {
   "cell_type": "markdown",
   "id": "afae9188",
   "metadata": {},
   "source": [
    "## Name: Chetana Jadhav.\n",
    "### Internship: Python Development Intern\n",
    "### Project 1 : URL shortener"
   ]
  },
  {
   "cell_type": "code",
   "execution_count": 3,
   "id": "af882c0b",
   "metadata": {},
   "outputs": [
    {
     "name": "stdout",
     "output_type": "stream",
     "text": [
      "Defaulting to user installation because normal site-packages is not writeable\n",
      "Requirement already satisfied: pyshorteners in c:\\users\\bhavika\\appdata\\roaming\\python\\python39\\site-packages (1.0.1)\n",
      "Requirement already satisfied: requests in c:\\programdata\\anaconda3\\lib\\site-packages (from pyshorteners) (2.28.1)\n",
      "Requirement already satisfied: certifi>=2017.4.17 in c:\\programdata\\anaconda3\\lib\\site-packages (from requests->pyshorteners) (2022.9.14)\n",
      "Requirement already satisfied: urllib3<1.27,>=1.21.1 in c:\\programdata\\anaconda3\\lib\\site-packages (from requests->pyshorteners) (1.26.11)\n",
      "Requirement already satisfied: idna<4,>=2.5 in c:\\programdata\\anaconda3\\lib\\site-packages (from requests->pyshorteners) (3.3)\n",
      "Requirement already satisfied: charset-normalizer<3,>=2 in c:\\programdata\\anaconda3\\lib\\site-packages (from requests->pyshorteners) (2.0.4)\n",
      "Note: you may need to restart the kernel to use updated packages.\n"
     ]
    }
   ],
   "source": [
    "# install inbuilt python package \n",
    "pip install pyshorteners"
   ]
  },
  {
   "cell_type": "code",
   "execution_count": 4,
   "id": "d5ee4a70",
   "metadata": {},
   "outputs": [
    {
     "name": "stdout",
     "output_type": "stream",
     "text": [
      "Defaulting to user installation because normal site-packages is not writeable\n",
      "Requirement already satisfied: pyperclip in c:\\users\\bhavika\\appdata\\roaming\\python\\python39\\site-packages (1.8.2)\n",
      "Note: you may need to restart the kernel to use updated packages.\n"
     ]
    }
   ],
   "source": [
    "pip install pyperclip"
   ]
  },
  {
   "cell_type": "code",
   "execution_count": 3,
   "id": "1f04308b",
   "metadata": {},
   "outputs": [
    {
     "name": "stdout",
     "output_type": "stream",
     "text": [
      "Enter the URL: https://www.amazon.in/gp/product/B09WQYFLRX/ref=s9_acss_bw_cg_Budget_8b1_w?pf_rd_m=A1K21FY43GMZF8&pf_rd_s=merchandised-search-11&pf_rd_r=TK0SHKV7YKX0EP8V3SB8&pf_rd_t=101&pf_rd_p=8e2d6f8d-6770-485d-8258-85b752c68e06&pf_rd_i=1389401031\n",
      "\n",
      "New Short URL:  https://tinyurl.com/2jp2tkv4\n"
     ]
    }
   ],
   "source": [
    "# Using in-buit package to short url\n",
    "import pyshorteners\n",
    "\n",
    "# To take longer url from user\n",
    "url = input(\"Enter the URL: \")\n",
    "\n",
    "#using pyshorteners to make url short\n",
    "short_url = pyshorteners.Shortener().tinyurl.short(url)\n",
    "\n",
    "print(\"\\nNew Short URL: \", short_url)"
   ]
  }
 ],
 "metadata": {
  "kernelspec": {
   "display_name": "Python 3 (ipykernel)",
   "language": "python",
   "name": "python3"
  },
  "language_info": {
   "codemirror_mode": {
    "name": "ipython",
    "version": 3
   },
   "file_extension": ".py",
   "mimetype": "text/x-python",
   "name": "python",
   "nbconvert_exporter": "python",
   "pygments_lexer": "ipython3",
   "version": "3.9.13"
  }
 },
 "nbformat": 4,
 "nbformat_minor": 5
}
